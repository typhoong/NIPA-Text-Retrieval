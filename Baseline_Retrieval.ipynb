{
 "cells": [
  {
   "cell_type": "code",
   "execution_count": null,
   "id": "73288296-2726-4a05-8d7e-416fc54553d3",
   "metadata": {
    "jp-MarkdownHeadingCollapsed": true,
    "tags": []
   },
   "outputs": [],
   "source": [
    "# !pip install rank_bm25"
   ]
  },
  {
   "cell_type": "code",
   "execution_count": null,
   "id": "9bd17bcf-f8ed-42df-bb8c-e066ae4bcb49",
   "metadata": {},
   "outputs": [],
   "source": [
    "# 라이브러리 임포트\n",
    "import json\n",
    "import numpy as np\n",
    "import pandas as pd\n",
    "from rank_bm25 import BM25Okapi"
   ]
  },
  {
   "cell_type": "code",
   "execution_count": null,
   "id": "f254b2bf-b0e4-409d-bddf-bdbb74c17457",
   "metadata": {},
   "outputs": [],
   "source": [
    "# 데이터 로드\n",
    "train = json.load(open('##### train.json 경로 #####', 'r', encoding='utf8')) \n",
    "test_data = json.load(open('##### test_data.json 경로 #####', 'r', encoding='utf8'))\n",
    "test_question = pd.read_csv('##### test_questions.csv 경로 #####', encoding='utf8')\n",
    "sample = pd.read_csv('##### sample_submission.csv 경로 #####', encoding='utf8')"
   ]
  },
  {
   "cell_type": "markdown",
   "id": "f62f5ad3-0d74-4805-81d9-256643e64b63",
   "metadata": {},
   "source": [
    "# bm25 Train Set 성능 확인"
   ]
  },
  {
   "cell_type": "markdown",
   "id": "412f9587-58c0-4edb-a08c-314d9228e2c6",
   "metadata": {},
   "source": [
    "### DATA"
   ]
  },
  {
   "cell_type": "code",
   "execution_count": null,
   "id": "aa54a704-9cc4-4bce-a38c-d00cebffdb80",
   "metadata": {},
   "outputs": [],
   "source": [
    "number_of_contents = len(train['data'])\n",
    "bound = number_of_contents\n",
    "\n",
    "contexts = []\n",
    "questions = []\n",
    "\n",
    "for i in range(bound):\n",
    "    for j in range(len(train['data'][i]['paragraphs'])):\n",
    "        if len(train['data'][i]['paragraphs'][j]['qas'])>0:\n",
    "            contexts.append(train['data'][i]['paragraphs'][j]['context'])\n",
    "            questions.append(train['data'][i]['paragraphs'][j]['qas'][0]['question'])"
   ]
  },
  {
   "cell_type": "code",
   "execution_count": null,
   "id": "be0ee47e-e887-4877-9d8a-baf79f29b639",
   "metadata": {},
   "outputs": [],
   "source": [
    "contexts[:3]"
   ]
  },
  {
   "cell_type": "code",
   "execution_count": null,
   "id": "0e3bb10e-e2e1-4432-8f84-4adb8e9589f1",
   "metadata": {},
   "outputs": [],
   "source": [
    "questions[:3]"
   ]
  },
  {
   "cell_type": "markdown",
   "id": "a4511917-2920-4256-9389-ac1387d3d075",
   "metadata": {},
   "source": [
    "### Model"
   ]
  },
  {
   "cell_type": "code",
   "execution_count": null,
   "id": "3c2f51bc-4cd5-4476-841d-f80b1fa80aef",
   "metadata": {},
   "outputs": [],
   "source": [
    "bm25 = BM25Okapi([doc.split(' ') for doc in contexts])"
   ]
  },
  {
   "cell_type": "code",
   "execution_count": null,
   "id": "fac95b96-6647-4fae-820b-e8ffa5de2a93",
   "metadata": {},
   "outputs": [],
   "source": [
    "answer = []\n",
    "for q in [question.split(' ') for question in questions]:\n",
    "    answer.append(bm25.get_top_n(q, contexts, n=10))"
   ]
  },
  {
   "cell_type": "code",
   "execution_count": null,
   "id": "72a0e92f-f47d-4f1f-ae55-c244fd7cf562",
   "metadata": {},
   "outputs": [],
   "source": [
    "accumulated_RR = 0\n",
    "\n",
    "for index, value in enumerate(answer):\n",
    "    for index_, value_ in enumerate(answer[index]):\n",
    "        if value_ == contexts[index]:\n",
    "            accumulated_RR += 1/(1 + index_)\n",
    "\n",
    "MRR = accumulated_RR/(len(answer))\n",
    "MRR"
   ]
  },
  {
   "cell_type": "markdown",
   "id": "a293cbf8-2eb4-4297-a3c6-aac2161b371c",
   "metadata": {},
   "source": [
    "# bm25 Test Set 추론"
   ]
  },
  {
   "cell_type": "markdown",
   "id": "f5504af2-bf0b-48f9-9bf2-6f2ff53939b7",
   "metadata": {},
   "source": [
    "### DATA"
   ]
  },
  {
   "cell_type": "code",
   "execution_count": null,
   "id": "7bb1a8da-f898-41a2-8ada-284ff8a86f93",
   "metadata": {},
   "outputs": [],
   "source": [
    "questions = list(test_question['question_text'])\n",
    "\n",
    "contexts = []\n",
    "par_ids = []\n",
    "\n",
    "for i in range(len(test_data['data'])):\n",
    "    for j in range(len(test_data['data'][i]['paragraphs'])):\n",
    "        contexts.append(test_data['data'][i]['paragraphs'][j]['context'])\n",
    "        par_ids.append(test_data['data'][i]['paragraphs'][j]['paragraph_id'])"
   ]
  },
  {
   "cell_type": "code",
   "execution_count": null,
   "id": "9dc9578f-78b9-405a-a383-6e05efdb3bca",
   "metadata": {},
   "outputs": [],
   "source": [
    "questions[:3]"
   ]
  },
  {
   "cell_type": "code",
   "execution_count": null,
   "id": "b52f7e53-39e3-406c-a98e-e55fa0fe345e",
   "metadata": {
    "tags": []
   },
   "outputs": [],
   "source": [
    "contexts[:3]"
   ]
  },
  {
   "cell_type": "code",
   "execution_count": null,
   "id": "70aa5ec2-0687-4cb0-82ee-40f9af726128",
   "metadata": {},
   "outputs": [],
   "source": [
    "par_ids[:3]"
   ]
  },
  {
   "cell_type": "markdown",
   "id": "b11a7d18-c29e-4d95-af53-0e3c52107db3",
   "metadata": {},
   "source": [
    "### Model"
   ]
  },
  {
   "cell_type": "code",
   "execution_count": null,
   "id": "08c398a1-7138-47cf-8068-7ba49b58e83f",
   "metadata": {},
   "outputs": [],
   "source": [
    "bm25 = BM25Okapi([doc.split(' ') for doc in contexts])"
   ]
  },
  {
   "cell_type": "code",
   "execution_count": null,
   "id": "2e311393-2c4e-4c46-a5e8-7ed61860b3ff",
   "metadata": {},
   "outputs": [],
   "source": [
    "answer = []\n",
    "for q in [question.split(' ') for question in questions]:\n",
    "    answer.append(bm25.get_top_n(q, contexts, n=10))"
   ]
  },
  {
   "cell_type": "code",
   "execution_count": null,
   "id": "6273250b-283b-4bde-8da2-466ab46baa77",
   "metadata": {},
   "outputs": [],
   "source": [
    "for i, a in enumerate(answer):\n",
    "    for j, b in enumerate(a):\n",
    "        for k, c in enumerate(contexts):\n",
    "            if b == c:\n",
    "                if j == 0:\n",
    "                    prediction = par_ids[k]\n",
    "                elif j < 9:\n",
    "                    prediction = prediction + ',' + par_ids[k]\n",
    "                else:\n",
    "                    prediction = prediction + ',' + par_ids[k]\n",
    "                    sample.loc[i, 'paragraph_id'] = prediction\n",
    "sample"
   ]
  },
  {
   "cell_type": "code",
   "execution_count": null,
   "id": "d14e7d0a-d908-40e9-8837-053f830cfaa9",
   "metadata": {},
   "outputs": [],
   "source": [
    "sample.to_csv('##### prediction.csv 경로 #####', index=False, encoding=\"utf-8\")"
   ]
  }
 ],
 "metadata": {
  "kernelspec": {
   "display_name": "Python 3 (ipykernel)",
   "language": "python",
   "name": "python3"
  },
  "language_info": {
   "codemirror_mode": {
    "name": "ipython",
    "version": 3
   },
   "file_extension": ".py",
   "mimetype": "text/x-python",
   "name": "python",
   "nbconvert_exporter": "python",
   "pygments_lexer": "ipython3",
   "version": "3.7.7"
  }
 },
 "nbformat": 4,
 "nbformat_minor": 5
}
